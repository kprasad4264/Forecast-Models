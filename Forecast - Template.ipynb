{
 "cells": [
  {
   "cell_type": "markdown",
   "id": "fcb9258f",
   "metadata": {},
   "source": [
    "# Import Libraries"
   ]
  },
  {
   "cell_type": "code",
   "execution_count": null,
   "id": "37ce837d",
   "metadata": {},
   "outputs": [],
   "source": [
    "# connector to bigRED\n",
    "from dataminer.connector import BigRed,BigRed3\n",
    "from dataminer.utils import get_secret\n",
    "\n",
    "# basic data manipulation packages\n",
    "import pandas as pd\n",
    "from functools import reduce\n",
    "import numpy as np\n",
    "\n",
    "# visualization\n",
    "import seaborn as sns\n",
    "\n",
    "import matplotlib.pyplot as plt\n",
    "import matplotlib.ticker as ticker\n",
    "import matplotlib.style as style\n",
    "import matplotlib.axis as axs\n",
    "from matplotlib.dates import DateFormatter\n",
    "%matplotlib inline\n",
    "\n",
    "import random\n",
    "from sklearn.metrics import mean_absolute_error\n",
    "from sklearn.metrics import mean_squared_error\n",
    "\n",
    "# modeling\n",
    "from fbprophet import Prophet\n",
    "\n",
    "# parallelization\n",
    "import concurrent.futures\n",
    "\n",
    "import logging\n",
    "logging.getLogger().setLevel(logging.WARNING)\n",
    "\n",
    "import matplotlib as mpl\n",
    "\n",
    "import numpy as np\n",
    "import os\n",
    "from datetime import datetime\n",
    "import pandas as pd\n",
    "import plotly.express as px\n",
    "\n",
    "mpl.rcParams['figure.figsize'] = (10, 8)\n",
    "mpl.rcParams['axes.grid'] = False\n",
    "\n",
    "from sklearn.model_selection import train_test_split\n",
    "\n",
    "import ast"
   ]
  },
  {
   "cell_type": "markdown",
   "id": "629ff822",
   "metadata": {},
   "source": [
    "### Prepare Data"
   ]
  },
  {
   "cell_type": "code",
   "execution_count": null,
   "id": "1bceb7dd",
   "metadata": {},
   "outputs": [],
   "source": [
    "turnover_df = pd.read_csv('your_data.csv') ### provide your spred sheet with date, target vales\n",
    "# example calendar_month_end\tterminations\taverage_headcount\tturnover\n",
    "#            YYYY-MM-DD\t####\t####\t%value                add actual data for year, month date, ###, % value \n",
    "turnover_process_df = turnover_df[['calendar_month_end','terminations','average_headcount','turnover']]\n",
    "turnover_process_df['calendar_month_end'] = pd.to_datetime(turnover_process_df['calendar_month_end'])\n",
    "turnover_process_df"
   ]
  },
  {
   "cell_type": "markdown",
   "id": "a155a5ef",
   "metadata": {},
   "source": [
    "### Process Data"
   ]
  },
  {
   "cell_type": "code",
   "execution_count": null,
   "id": "a2f11808",
   "metadata": {},
   "outputs": [],
   "source": [
    "# descriptive stats\n",
    "process_merged_df = turnover_process_df\n",
    "process_merged_df.describe(include='all')"
   ]
  },
  {
   "cell_type": "code",
   "execution_count": null,
   "id": "3ee75c9d",
   "metadata": {},
   "outputs": [],
   "source": [
    "# Check for any nulls, sort data, converting date time,\n",
    "process_merged_df = process_merged_df.sort_values(by =['calendar_month_end'],ascending=True)\n",
    "\n",
    "print(' data Types: ', process_merged_df.info())\n",
    "max_date = process_merged_df['calendar_month_end'].max().strftime('%Y-%m-%d')\n",
    "print('Max Calendar Month End date is:', max_date)\n",
    "\n",
    "print (\"Rows     : \" ,process_merged_df.shape[0])\n",
    "print (\"Columns  : \" ,process_merged_df.shape[1])\n",
    "print (\"\\nFeatures : \\n\" ,process_merged_df.columns.tolist())\n",
    "print (\"\\nMissing values :  \", process_merged_df.isnull().any())\n",
    "print (\"\\nUnique values :  \\n\",process_merged_df.nunique())"
   ]
  },
  {
   "cell_type": "markdown",
   "id": "9d8b4d4d",
   "metadata": {},
   "source": [
    "### Analyze the data"
   ]
  },
  {
   "cell_type": "code",
   "execution_count": null,
   "id": "3cb673c5",
   "metadata": {},
   "outputs": [],
   "source": [
    "f, axes = plt.subplots(2, 3, sharex=False, figsize=(40,30))\n",
    "f.set_figheight(10)\n",
    "f.set_figwidth(20)\n",
    "sns.lineplot(ax=axes[0,0],data=process_merged_df, x=\"calendar_month_end\", y=\"turnover\",legend ='full')\n",
    "axes[0,0].set_title('Turnover')\n",
    "\n",
    "f.set_figheight(10)\n",
    "f.set_figwidth(20)\n",
    "sns.lineplot(ax=axes[0,1],data=process_merged_df, x=\"calendar_month_end\", y=\"terminations\")\n",
    "axes[0,1].set_title('termination')\n",
    "\n",
    "f.set_figheight(10)\n",
    "f.set_figwidth(20)\n",
    "sns.lineplot(ax=axes[0,2],data=process_merged_df, x=\"calendar_month_end\", y=\"average_headcount\")\n",
    "axes[0,2].set_title('average_headcount')\n",
    "\n",
    "f.set_figheight(10)\n",
    "f.set_figwidth(20)\n",
    "sns.lineplot(ax=axes[1,0],data=process_merged_df, x=\"calendar_month_end\", y=\"hires\")\n",
    "axes[1,0].set_title('hires')\n",
    "\n",
    "f.set_figheight(10)\n",
    "f.set_figwidth(20)\n",
    "sns.lineplot(ax=axes[1,1],data=process_merged_df, x=\"calendar_month_end\", y=\"absents\")\n",
    "axes[1,1].set_title('absents')\n",
    "\n",
    "f.set_figheight(10)\n",
    "f.set_figwidth(20)\n",
    "sns.lineplot(ax=axes[1,2],data=process_merged_df, x=\"calendar_month_end\", y=\"unemp\")\n",
    "axes[1,2].set_title('unemp')"
   ]
  },
  {
   "cell_type": "markdown",
   "id": "2fe51e8c",
   "metadata": {},
   "source": [
    "### Forecast Data"
   ]
  },
  {
   "cell_type": "code",
   "execution_count": null,
   "id": "c069bfb9",
   "metadata": {},
   "outputs": [],
   "source": [
    "# Pre setps for forecastin\n",
    "import os\n",
    "import sys\n",
    "\n",
    "class suppress_stdout_stderr(object):\n",
    "    '''\n",
    "    A context manager for doing a \"deep suppression\" of stdout and stderr in\n",
    "    Python, i.e. will suppress all print, even if the print originates in a\n",
    "    compiled C/Fortran sub-function.\n",
    "       This will not suppress raised exceptions, since exceptions are printed\n",
    "    to stderr just before a script exits, and after the context manager has\n",
    "    exited (at least, I think that is why it lets exceptions through).\n",
    "    '''\n",
    "    def __init__(self):\n",
    "        # Open a pair of null files\n",
    "        self.null_fds = [os.open(os.devnull, os.O_RDWR) for x in range(2)]\n",
    "        # Save the actual stdout (1) and stderr (2) file descriptors.\n",
    "        self.save_fds = (os.dup(1), os.dup(2))\n",
    "\n",
    "    def __enter__(self):\n",
    "        # Assign the null pointers to stdout and stderr.\n",
    "        os.dup2(self.null_fds[0], 1)\n",
    "        os.dup2(self.null_fds[1], 2)\n",
    "\n",
    "    def __exit__(self, *_):\n",
    "        # Re-assign the real stdout/stderr back to (1) and (2)\n",
    "        os.dup2(self.save_fds[0], 1)\n",
    "        os.dup2(self.save_fds[1], 2)\n",
    "        # Close the null files\n",
    "        os.close(self.null_fds[0])\n",
    "        os.close(self.null_fds[1])\n",
    "        \n",
    "def MAPE(Y_actual, Y_Predicted):\n",
    "    \n",
    "    mape = np.mean(np.abs((Y_actual - Y_Predicted) / Y_actual)) * 100\n",
    "    return mape"
   ]
  },
  {
   "cell_type": "markdown",
   "id": "8f4a0227",
   "metadata": {},
   "source": [
    "### Turnover Forecast"
   ]
  },
  {
   "cell_type": "code",
   "execution_count": null,
   "id": "12e9c326",
   "metadata": {},
   "outputs": [],
   "source": [
    "ent_m_turnover=process_merged_df[['calendar_month_end','turnover']].rename(columns={'calendar_month_end':'ds','turnover':'y'})[['ds','y']]\n",
    "ent_m_turnover_model = Prophet()\n",
    "ent_m_turnover_model.add_country_holidays(country_name='US')\n",
    "with suppress_stdout_stderr():\n",
    "    ent_m_turnover_model.fit(ent_m_turnover)\n",
    "    ent_m_turnover_future_months =ent_m_turnover_model.make_future_dataframe(periods=66,freq='M')\n",
    "    ent_m_turnover_future_months_forecast =ent_m_turnover_model.predict(ent_m_turnover_future_months)\n",
    "#ent_m_turnover_future_months_forecast\n",
    "ent_m_turnover_forecast_all = ent_m_turnover.append(ent_m_turnover_future_months_forecast[ent_m_turnover_future_months_forecast['ds']>max_date][['ds','yhat']].rename(columns={'yhat':'y'}))\n",
    "ent_m_turnover_actual_forecast_all =ent_m_turnover.merge(ent_m_turnover_future_months_forecast[['ds','yhat','yhat_lower','yhat_upper']],on='ds')\n",
    "#ent_m_turnover_actual_forecast_all\n",
    "\n",
    "turnover_mape = MAPE(ent_m_turnover_actual_forecast_all['y'], ent_m_turnover_actual_forecast_all['yhat'])\n",
    "print('turnover Mape in Percentage:',turnover_mape)\n",
    "\n",
    "# Plot the forecast\n",
    "f, ax = plt.subplots(1)\n",
    "f.set_figheight(5)\n",
    "f.set_figwidth(15)\n",
    "fig = ent_m_turnover_model.plot(ent_m_turnover_future_months_forecast,ax=ax)\n",
    "plt.title('Actuals vs  Forecast data ')\n",
    "plt.show()\n",
    "\n",
    "# Plot the components of the model\n",
    "fig = ent_m_turnover_model.plot_components(ent_m_turnover_future_months_forecast)"
   ]
  },
  {
   "cell_type": "code",
   "execution_count": null,
   "id": "9ba68b40",
   "metadata": {},
   "outputs": [],
   "source": [
    "ent_m_turnover_forecast_all_year =ent_m_turnover_forecast_all.assign(year=lambda y:pd.DatetimeIndex(y['ds']).year,\n",
    "                                                                                                 month=lambda y:pd.DatetimeIndex(y['ds']).month)\n",
    "f, axes = plt.subplots(2,figsize=(30,20))\n",
    "f.set_figheight(15)\n",
    "f.set_figwidth(20)\n",
    "sns.barplot(ax=axes[0],data=ent_m_turnover_forecast_all_year, x=\"month\", y=\"y\",hue='year')\n",
    "axes[0].set_title('Turnover by month for all years')\n",
    "\n",
    "ent_m_turnover_forecast_all_year_agg = ent_m_turnover_forecast_all_year.groupby(['year']).agg({'y':'sum'}).reset_index()\n",
    "display(ent_m_turnover_forecast_all_year_agg)\n",
    "\n",
    "sns.barplot(ax=axes[1],data=ent_m_turnover_forecast_all_year_agg, x=\"year\", y=\"y\")"
   ]
  },
  {
   "cell_type": "code",
   "execution_count": null,
   "id": "54f3c2e1",
   "metadata": {},
   "outputs": [],
   "source": [
    "\n",
    "print(f\" Turnover MAPE is :{turnover_mape} \n",
    "\")"
   ]
  },
  {
   "cell_type": "markdown",
   "id": "56cdd1a6",
   "metadata": {},
   "source": [
    "### Share the data"
   ]
  },
  {
   "cell_type": "code",
   "execution_count": null,
   "id": "31d2a8e4",
   "metadata": {},
   "outputs": [],
   "source": [
    "#overall_df\n",
    "alldfs = [var for var in dir() if isinstance(eval(var), pd.core.frame.DataFrame)]\n",
    "j =[]\n",
    "forecast = pd.DataFrame()\n",
    "for i in range(0,len(alldfs)):\n",
    "    if alldfs[i].endswith('_agg'):\n",
    "        j.append(alldfs[i])\n",
    "        \n",
    "for i in j:\n",
    "    print(i)\n",
    "\n",
    "ent_m_turnover_forecast_summary = ent_m_turnover_forecast_all_year_agg.rename(columns={'y':'turnover'})\n",
    "# ent_m_turnover_forecast_summary = ent_m_turnover_forecast_summary.merge(ent_m_turnover_terminations_forecast_all_year_agg.rename(columns={'y':'terminations'}), on='year')\n",
    "# ent_m_turnover_forecast_summary = ent_m_turnover_forecast_summary.merge(ent_m_turnover_average_headcount_forecast_all_year_agg.rename(columns={'y':'avrage_headcount'}), on='year')\n",
    "# ent_m_turnover_forecast_summary = ent_m_turnover_forecast_summary.merge(ent_m_turnover_unemp_forecast_all_year_agg.rename(columns={'y':'unemp'}), on='year')\n",
    "# ent_m_turnover_forecast_summary = ent_m_turnover_forecast_summary.merge(ent_m_turnover_absents_forecast_all_year_agg.rename(columns={'y':'absents'}), on='year')\n",
    "# ent_m_turnover_forecast_summary = ent_m_turnover_forecast_summary.merge(ent_m_turnover_hires_forecast_all_year_agg.rename(columns={'y':'hires'}), on='year')\n",
    "\n",
    "# ent_m_turnover_forecast_summary = ent_m_turnover_forecast_summary.merge(ent_m_turnover_absents_unemp_forecast_all_year_agg.rename(columns={'y':'absents_unemp'}), on='year')\n",
    "# ent_m_turnover_forecast_summary = ent_m_turnover_forecast_summary.merge(ent_m_turnover_absents_hires_forecast_all_year_agg.rename(columns={'y':'absents_hires'}), on='year')\n",
    "# ent_m_turnover_forecast_summary = ent_m_turnover_forecast_summary.merge(ent_m_turnover_unemp_hires_forecast_all_year_agg.rename(columns={'y':'unemp_hires'}), on='year')\n",
    "# #ent_m_turnover_forecast_summary = ent_m_turnover_forecast_summary.merge(ent_m_turnover_terminations_average_headcount_forecast_all_year_agg.rename(columns={'y':'terminations_average_headcount'}), on='year')\n",
    "\n",
    "# ent_m_turnover_forecast_summary = ent_m_turnover_forecast_summary.merge(ent_m_turnover_absents_unemp_hires_forecast_all_year_agg.rename(columns={'y':'absents_unemp_hires'}), on='year')\n",
    "\n",
    "\n",
    "display(ent_m_turnover_forecast_summary)\n",
    "ent_m_turnover_forecast_summary_2021_plus =ent_m_turnover_forecast_summary[ent_m_turnover_forecast_summary['year'] >2019]\n",
    "ent_m_turnover_forecast_summary_2021_plus.plot(x=\"year\", y=[\"turnover\",\"terminations\",\"avrage_headcount\", \n",
    "                                                  ], kind=\"bar\",figsize=(20,10))"
   ]
  }
 ],
 "metadata": {
  "kernelspec": {
   "display_name": "Python 3 (ipykernel)",
   "language": "python",
   "name": "python3"
  },
  "language_info": {
   "codemirror_mode": {
    "name": "ipython",
    "version": 3
   },
   "file_extension": ".py",
   "mimetype": "text/x-python",
   "name": "python",
   "nbconvert_exporter": "python",
   "pygments_lexer": "ipython3",
   "version": "3.7.11"
  }
 },
 "nbformat": 4,
 "nbformat_minor": 5
}
